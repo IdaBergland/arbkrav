{
 "cells": [
  {
   "cell_type": "markdown",
   "id": "502bf1ed-6516-413b-8969-20d14cf33fc0",
   "metadata": {},
   "source": [
    "Arbeidskrav 5 Sok-1003"
   ]
  },
  {
   "cell_type": "code",
   "execution_count": null,
   "id": "759d6101-e18d-4c00-b84a-9bd4865b5a61",
   "metadata": {},
   "outputs": [],
   "source": []
  },
  {
   "cell_type": "code",
   "execution_count": 2,
   "id": "e35dd0bf-f92a-472c-a914-b054933885cf",
   "metadata": {},
   "outputs": [
    {
     "data": {
      "text/plain": [
       "{x: -1, y: 2}"
      ]
     },
     "execution_count": 2,
     "metadata": {},
     "output_type": "execute_result"
    }
   ],
   "source": [
    "import sympy as sp\n",
    "from sympy.solvers import solve\n",
    "x,y=sp.symbols('x y')\n",
    "\n",
    "import pandas as pd\n",
    "import numpy as np\n",
    "import matplotlib.pyplot as plt\n",
    "\n",
    "#Komma erstatter liketstegnet.\n",
    "\n",
    "#Oppgave 1A\n",
    "eq1 = sp.Eq(2*x + 4*y, 6)\n",
    "eq1\n",
    "\n",
    "eq2 = sp.Eq(-2*x + y, 4)\n",
    "eq2\n",
    "\n",
    "sol=solve([eq1,eq2], [x,y])\n",
    "sol"
   ]
  },
  {
   "cell_type": "code",
   "execution_count": 4,
   "id": "e5932a70-62b4-41b7-b3ba-da3a537c87a6",
   "metadata": {},
   "outputs": [
    {
     "data": {
      "text/plain": [
       "{x: 4, y: 0}"
      ]
     },
     "execution_count": 4,
     "metadata": {},
     "output_type": "execute_result"
    }
   ],
   "source": [
    "eq5 = sp.Eq(3*x - 12 , - 6*y)\n",
    "eq5\n",
    "\n",
    "eq6 = sp.Eq(4*x - 8*y , 16)\n",
    "eq6\n",
    "\n",
    "sol=solve([eq5,eq6], [x,y])\n",
    "sol"
   ]
  },
  {
   "cell_type": "markdown",
   "id": "7456fd4b-900f-447e-8dd7-c7fc55971202",
   "metadata": {},
   "source": [
    "Oppgave 1B"
   ]
  },
  {
   "cell_type": "code",
   "execution_count": 3,
   "id": "07d29381-4ce0-4855-9bd7-a6af2069f782",
   "metadata": {},
   "outputs": [
    {
     "data": {
      "text/plain": [
       "{x: 0, y: 1}"
      ]
     },
     "execution_count": 3,
     "metadata": {},
     "output_type": "execute_result"
    }
   ],
   "source": [
    "eq3 = sp.Eq(2*x - y, -1)\n",
    "eq3\n",
    "\n",
    "eq4 = sp.Eq(2+x - y,  1)\n",
    "eq4\n",
    "\n",
    "\n",
    "sol=solve([eq3,eq4], [x,y])\n",
    "sol"
   ]
  },
  {
   "cell_type": "markdown",
   "id": "b8e14f11-0e5b-430c-a6f2-0c35bde96743",
   "metadata": {},
   "source": [
    "Oppgave 2B"
   ]
  },
  {
   "cell_type": "code",
   "execution_count": 4,
   "id": "861ccfe1-7eed-482e-8620-7218e59b8e71",
   "metadata": {},
   "outputs": [
    {
     "data": {
      "text/plain": [
       "[(-15/2, 31/4), (2, 3)]"
      ]
     },
     "execution_count": 4,
     "metadata": {},
     "output_type": "execute_result"
    }
   ],
   "source": [
    "eq7 = sp.Eq(x**2 + 4*x - 3 ,3*y)\n",
    "eq7\n",
    "\n",
    "eq8 = sp.Eq(2*y , 8 - x)\n",
    "eq8\n",
    "\n",
    "sol=solve([eq7,eq8], [x,y])\n",
    "sol"
   ]
  },
  {
   "cell_type": "markdown",
   "id": "889cf6b8-02a1-4290-a814-cd8a5f41214b",
   "metadata": {},
   "source": [
    "Modul 16, Likningssett(addisjonsmetoden)"
   ]
  },
  {
   "cell_type": "markdown",
   "id": "832a2ac0-f439-4bbb-ad19-b76818f65ddd",
   "metadata": {},
   "source": [
    "Oppgave 1A"
   ]
  },
  {
   "cell_type": "code",
   "execution_count": 9,
   "id": "b4352c06-db01-480e-a0b9-dee386f379c4",
   "metadata": {},
   "outputs": [
    {
     "data": {
      "text/plain": [
       "{x: 2, y: 2}"
      ]
     },
     "execution_count": 9,
     "metadata": {},
     "output_type": "execute_result"
    }
   ],
   "source": [
    "eq9 = sp.Eq(4*x + 2*y , 12)\n",
    "eq9\n",
    "\n",
    "eq10 = sp.Eq(6*x - 2*y , 8)\n",
    "eq10\n",
    "\n",
    "sol=solve([eq9,eq10], [x,y])\n",
    "sol"
   ]
  },
  {
   "cell_type": "markdown",
   "id": "5244430c-6299-496a-9f2b-0cde091b9eb0",
   "metadata": {},
   "source": [
    "Oppgave 1B"
   ]
  },
  {
   "cell_type": "code",
   "execution_count": 10,
   "id": "c5cba00e-b93a-471e-9f52-749642064e44",
   "metadata": {},
   "outputs": [
    {
     "data": {
      "text/plain": [
       "[(0, -5), (12, 1)]"
      ]
     },
     "execution_count": 10,
     "metadata": {},
     "output_type": "execute_result"
    }
   ],
   "source": [
    "import sympy as sp\n",
    "from sympy.solvers import solve\n",
    "x,y=sp.symbols('x y')\n",
    "\n",
    "\n",
    "eq11 = sp.Eq(2*x +y**2 , 25)\n",
    "eq11\n",
    "\n",
    "eq12 = sp.Eq(x - 2*y , 10)\n",
    "eq12\n",
    "\n",
    "sol=solve([eq11,eq12], [x,y])\n",
    "sol"
   ]
  },
  {
   "cell_type": "markdown",
   "id": "769b2e0a-a4c4-4a18-9763-78d8333c92af",
   "metadata": {},
   "source": [
    "Oppgave 2A"
   ]
  }
 ],
 "metadata": {
  "kernelspec": {
   "display_name": "Python 3 (ipykernel)",
   "language": "python",
   "name": "python3"
  },
  "language_info": {
   "codemirror_mode": {
    "name": "ipython",
    "version": 3
   },
   "file_extension": ".py",
   "mimetype": "text/x-python",
   "name": "python",
   "nbconvert_exporter": "python",
   "pygments_lexer": "ipython3",
   "version": "3.9.5"
  }
 },
 "nbformat": 4,
 "nbformat_minor": 5
}
